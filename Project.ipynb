{
  "cells": [
    {
      "cell_type": "markdown",
      "id": "b255c258",
      "metadata": {
        "id": "b255c258"
      },
      "source": [
        "## Load Dataset and Libraries"
      ]
    },
    {
      "cell_type": "code",
      "execution_count": null,
      "id": "52a3540e",
      "metadata": {
        "id": "52a3540e"
      },
      "outputs": [],
      "source": [
        "#install required libraries\n",
        "!pip install spacy_langdetect\n",
        "!pip install swifter\n",
        "!pip install ekphrasis\n",
        "!pip install tweet-preprocessor\n",
        "!pip install emot\n",
        "!pip install catboost"
      ]
    },
    {
      "cell_type": "code",
      "source": [
        "import numpy as np \n",
        "import pandas as pd \n",
        "import matplotlib.pyplot as plt\n",
        "import seaborn as sns\n",
        "import string as letter\n",
        "import spacy\n",
        "import swifter\n",
        "import re\n",
        "import preprocessor as p\n",
        "import nltk\n",
        "import pickle\n",
        "\n",
        "from sklearn.model_selection import train_test_split, GridSearchCV\n",
        "from sklearn.feature_extraction.text import CountVectorizer, TfidfVectorizer\n",
        "from sklearn.metrics import f1_score, accuracy_score, precision_score, recall_score, make_scorer, roc_auc_score, classification_report\n",
        "from time import time\n",
        "from sklearn.pipeline import Pipeline \n",
        "from sklearn.naive_bayes import MultinomialNB\n",
        "from sklearn.tree import DecisionTreeClassifier\n",
        "from sklearn.svm import LinearSVC\n",
        "from sklearn.ensemble import AdaBoostClassifier, RandomForestClassifier, BaggingClassifier, GradientBoostingClassifier\n",
        "from sklearn.linear_model import LogisticRegression, SGDClassifier\n",
        "from sklearn.neighbors import KNeighborsClassifier\n",
        "from spacy_langdetect import LanguageDetector\n",
        "from random import randrange\n",
        "from ekphrasis.classes.segmenter import Segmenter\n",
        "from functools import partial\n",
        "from collections import Counter\n",
        "from nltk.corpus import wordnet\n",
        "from nltk.corpus import stopwords\n",
        "from nltk.stem import WordNetLemmatizer\n",
        "from nltk.stem.porter import PorterStemmer\n",
        "from emot.emo_unicode import UNICODE_EMOJI, EMOTICONS_EMO\n",
        "from catboost import Pool, CatBoostClassifier\n",
        "\n",
        "#download nltk data for preprocessing\n",
        "nltk.download('wordnet')\n",
        "nltk.download('punkt')\n",
        "nltk.download('stopwords')\n",
        "nltk.download('wordnet')"
      ],
      "metadata": {
        "id": "8nFs3X6cVJeL"
      },
      "id": "8nFs3X6cVJeL",
      "execution_count": null,
      "outputs": []
    },
    {
      "cell_type": "code",
      "source": [
        "#Connect to google drive data if necessary\n",
        "from google.colab import drive\n",
        "drive.mount('/content/drive')"
      ],
      "metadata": {
        "id": "RuoIN_M0VSlU"
      },
      "id": "RuoIN_M0VSlU",
      "execution_count": null,
      "outputs": []
    },
    {
      "cell_type": "code",
      "source": [
        "PATH = '/content/cyberbullying_tweets.csv' #path for input csv file\n",
        "df = pd.read_csv(PATH)\n",
        "# remove duplicates\n",
        "df = df.drop_duplicates()"
      ],
      "metadata": {
        "id": "1iJdZqMXVVo2"
      },
      "id": "1iJdZqMXVVo2",
      "execution_count": null,
      "outputs": []
    },
    {
      "cell_type": "markdown",
      "source": [
        "##Data Exploration"
      ],
      "metadata": {
        "id": "phgtwJOoVfEo"
      },
      "id": "phgtwJOoVfEo"
    },
    {
      "cell_type": "code",
      "source": [
        "#category distribution of data\n",
        "df['cyberbullying_type'].value_counts()\n",
        "\n",
        "# Visualize the spread of the dataset\n",
        "plt.figure(figsize = (7,7))\n",
        "sorted_counts = df['cyberbullying_type'].value_counts()\n",
        "plt.pie(sorted_counts, labels = sorted_counts.index, startangle = 90, counterclock = False, wedgeprops = {'width' : 0.6},\n",
        "       autopct='%1.1f%%', pctdistance = 0.7, textprops = {'color': 'black', 'fontsize' : 15}, shadow = False,\n",
        "        colors = sns.color_palette(\"pastel\"))\n",
        "plt.text(x = -0.35, y = 0, s = 'Total Tweets: {}'.format(df.shape[0]))\n",
        "plt.title('Distribution of Tweets in the Dataset', fontsize = 16);"
      ],
      "metadata": {
        "id": "0Q_yI3I3VkF5"
      },
      "id": "0Q_yI3I3VkF5",
      "execution_count": null,
      "outputs": []
    },
    {
      "cell_type": "code",
      "source": [
        "nlp = spacy.load('en') \n",
        "nlp.add_pipe(LanguageDetector(), name='language_detector', last=True)\n",
        "\n",
        "# Explore the languages found in the tweets\n",
        "def detect_language(s):\n",
        "  doc = nlp(s)\n",
        "  detected_lang = doc._.language\n",
        "  return detected_lang['language']\n",
        "\n",
        "df['language'] = df['tweet_text'].swifter.apply(lambda x : detect_language(x))\n",
        "\n",
        "# Visualize the spread of the languages\n",
        "plt.figure(figsize = (7,7))\n",
        "sorted_counts = df['language'].value_counts()\n",
        "plt.pie(sorted_counts, labels = sorted_counts.index, startangle = 90, counterclock = False, wedgeprops = {'width' : 0.6},\n",
        "       autopct='%1.1f%%', pctdistance = 0.7, textprops = {'color': 'black', 'fontsize' : 15}, shadow = False,\n",
        "        colors = sns.color_palette(\"pastel\"))\n",
        "plt.text(x = -0.35, y = 0, s = 'Total Tweets: {}'.format(df.shape[0]))\n",
        "plt.title('Distribution of Languages in Tweets', fontsize = 16);"
      ],
      "metadata": {
        "id": "JxCnTsNdVpk5"
      },
      "id": "JxCnTsNdVpk5",
      "execution_count": null,
      "outputs": []
    },
    {
      "cell_type": "code",
      "source": [
        "# for simplicity's sake, we will keep only english tweets\n",
        "df = df[df['language'] == 'en']"
      ],
      "metadata": {
        "id": "8JCs5suRVyuE"
      },
      "id": "8JCs5suRVyuE",
      "execution_count": null,
      "outputs": []
    },
    {
      "cell_type": "markdown",
      "source": [
        "##Preprocessing"
      ],
      "metadata": {
        "id": "WK_f5uCWV2EH"
      },
      "id": "WK_f5uCWV2EH"
    },
    {
      "cell_type": "code",
      "source": [
        ""
      ],
      "metadata": {
        "id": "XxxCpyF-V4sp"
      },
      "id": "XxxCpyF-V4sp",
      "execution_count": null,
      "outputs": []
    },
    {
      "cell_type": "markdown",
      "source": [
        "###String Manipulation"
      ],
      "metadata": {
        "id": "kjBFU8rlV9_1"
      },
      "id": "kjBFU8rlV9_1"
    },
    {
      "cell_type": "code",
      "source": [
        ""
      ],
      "metadata": {
        "id": "TuZF3Zi2WCkC"
      },
      "id": "TuZF3Zi2WCkC",
      "execution_count": null,
      "outputs": []
    },
    {
      "cell_type": "markdown",
      "source": [
        "###One-Hot Encoding"
      ],
      "metadata": {
        "id": "KJGBTUGXWC5i"
      },
      "id": "KJGBTUGXWC5i"
    },
    {
      "cell_type": "code",
      "source": [
        ""
      ],
      "metadata": {
        "id": "x-HR6rLbWG3I"
      },
      "id": "x-HR6rLbWG3I",
      "execution_count": null,
      "outputs": []
    },
    {
      "cell_type": "markdown",
      "source": [
        "###Train & Test Datasets"
      ],
      "metadata": {
        "id": "yoZscuwzWHOJ"
      },
      "id": "yoZscuwzWHOJ"
    },
    {
      "cell_type": "code",
      "source": [
        ""
      ],
      "metadata": {
        "id": "XWgrJRLUWM7d"
      },
      "id": "XWgrJRLUWM7d",
      "execution_count": null,
      "outputs": []
    },
    {
      "cell_type": "markdown",
      "source": [
        "##TF IDF & Feature Extraction"
      ],
      "metadata": {
        "id": "Oy2MuibIWPRJ"
      },
      "id": "Oy2MuibIWPRJ"
    },
    {
      "cell_type": "code",
      "source": [
        ""
      ],
      "metadata": {
        "id": "Kq8mWPA5Wbf9"
      },
      "id": "Kq8mWPA5Wbf9",
      "execution_count": null,
      "outputs": []
    },
    {
      "cell_type": "markdown",
      "source": [
        "##Models"
      ],
      "metadata": {
        "id": "CfZcR4EJWczl"
      },
      "id": "CfZcR4EJWczl"
    },
    {
      "cell_type": "markdown",
      "source": [
        "###Bagging"
      ],
      "metadata": {
        "id": "D7pS4u3KWfRB"
      },
      "id": "D7pS4u3KWfRB"
    },
    {
      "cell_type": "markdown",
      "source": [
        "####Parameter Tuning"
      ],
      "metadata": {
        "id": "SoEcDnrVWl_3"
      },
      "id": "SoEcDnrVWl_3"
    },
    {
      "cell_type": "code",
      "source": [
        ""
      ],
      "metadata": {
        "id": "gl6gUJXtWqNO"
      },
      "id": "gl6gUJXtWqNO",
      "execution_count": null,
      "outputs": []
    },
    {
      "cell_type": "markdown",
      "source": [
        "###GradientBoost"
      ],
      "metadata": {
        "id": "3qPLBq2gWrm1"
      },
      "id": "3qPLBq2gWrm1"
    },
    {
      "cell_type": "markdown",
      "source": [
        "####Parameter Tuning"
      ],
      "metadata": {
        "id": "ZqVDc0tZWxUf"
      },
      "id": "ZqVDc0tZWxUf"
    },
    {
      "cell_type": "code",
      "source": [
        ""
      ],
      "metadata": {
        "id": "A4lBQ1TaXAF5"
      },
      "id": "A4lBQ1TaXAF5",
      "execution_count": null,
      "outputs": []
    },
    {
      "cell_type": "markdown",
      "source": [
        "###SGD"
      ],
      "metadata": {
        "id": "lEbkeKz8Wzw3"
      },
      "id": "lEbkeKz8Wzw3"
    },
    {
      "cell_type": "markdown",
      "source": [
        "####Parameter Tuning"
      ],
      "metadata": {
        "id": "NYgfqEnTW3Sw"
      },
      "id": "NYgfqEnTW3Sw"
    },
    {
      "cell_type": "code",
      "source": [
        ""
      ],
      "metadata": {
        "id": "boIsPgf9XApj"
      },
      "id": "boIsPgf9XApj",
      "execution_count": null,
      "outputs": []
    },
    {
      "cell_type": "markdown",
      "source": [
        "###AdaBoost"
      ],
      "metadata": {
        "id": "1rWXaZBLW6Rd"
      },
      "id": "1rWXaZBLW6Rd"
    },
    {
      "cell_type": "markdown",
      "source": [
        "####Parameter Tuning"
      ],
      "metadata": {
        "id": "JWk6o3TXW9S9"
      },
      "id": "JWk6o3TXW9S9"
    },
    {
      "cell_type": "code",
      "source": [
        "#test values for number of estimators\n",
        "param_grid = {\n",
        "  'n_estimators': [20, 50, 100, 150, 200]\n",
        "}\n",
        "\n",
        "grid = GridSearchCV(AdaBoostClassifier(random_state=123),  param_grid=param_grid, cv=3, verbose=3)\n",
        "grid.fit(X_train_tfidf, y_train)\n",
        "y_test_pred = grid.predict(X_test_tfidf)\n",
        "score = grid.score(X_test_tfidf, y_test)\n",
        "print(score)\n",
        "print(grid.best_score_)\n",
        "print(grid.best_params_)\n",
        "\n",
        "report = classification_report(y_test, y_test_pred, output_dict=True)\n",
        "report"
      ],
      "metadata": {
        "id": "o5vwh_RKXBLv"
      },
      "id": "o5vwh_RKXBLv",
      "execution_count": null,
      "outputs": []
    },
    {
      "cell_type": "markdown",
      "source": [
        "###Decision Tree"
      ],
      "metadata": {
        "id": "C7reMsgxXB13"
      },
      "id": "C7reMsgxXB13"
    },
    {
      "cell_type": "markdown",
      "source": [
        "####Parameter Tuning"
      ],
      "metadata": {
        "id": "8KyF_Q6mXGf3"
      },
      "id": "8KyF_Q6mXGf3"
    },
    {
      "cell_type": "code",
      "source": [
        "param_grid = {\n",
        "  'criterion': ['gini','entropy'],\n",
        "  'max_depth': [2,4,6,8,10,12,15,20,30,40,50,None]\n",
        "}\n",
        "grid = GridSearchCV(DecisionTreeClassifier(random_state=123),  param_grid=param_grid, cv=3, verbose=3)\n",
        "grid.fit(X_train_tfidf, y_train)\n",
        "y_test_pred = grid.predict(X_test_tfidf)\n",
        "score = grid.score(X_test_tfidf, y_test)\n",
        "print(score)\n",
        "print(grid.best_score_)\n",
        "print(grid.best_params_)\n",
        "\n",
        "report = classification_report(y_test, y_test_pred, output_dict=True)\n",
        "report"
      ],
      "metadata": {
        "id": "0y-_hzeFXIa1"
      },
      "id": "0y-_hzeFXIa1",
      "execution_count": null,
      "outputs": []
    },
    {
      "cell_type": "markdown",
      "source": [
        "###Random Forest"
      ],
      "metadata": {
        "id": "_hHqeygoXI7x"
      },
      "id": "_hHqeygoXI7x"
    },
    {
      "cell_type": "markdown",
      "source": [
        "####Parameter Tuning"
      ],
      "metadata": {
        "id": "3hU6_4-5XNM6"
      },
      "id": "3hU6_4-5XNM6"
    },
    {
      "cell_type": "code",
      "source": [
        ""
      ],
      "metadata": {
        "id": "JYD6QwCBXP5R"
      },
      "id": "JYD6QwCBXP5R",
      "execution_count": null,
      "outputs": []
    },
    {
      "cell_type": "markdown",
      "source": [
        "###CatBoost"
      ],
      "metadata": {
        "id": "2FaeIs4eXQWA"
      },
      "id": "2FaeIs4eXQWA"
    },
    {
      "cell_type": "markdown",
      "source": [
        "####Parameter Tuning"
      ],
      "metadata": {
        "id": "xYNppi9rXSuD"
      },
      "id": "xYNppi9rXSuD"
    },
    {
      "cell_type": "code",
      "source": [
        ""
      ],
      "metadata": {
        "id": "1bOhdqZ9XUxN"
      },
      "id": "1bOhdqZ9XUxN",
      "execution_count": null,
      "outputs": []
    },
    {
      "cell_type": "markdown",
      "source": [
        "###OnevsRest "
      ],
      "metadata": {
        "id": "w2C2gNPzXVlt"
      },
      "id": "w2C2gNPzXVlt"
    },
    {
      "cell_type": "markdown",
      "source": [
        "####Parameter Tuning"
      ],
      "metadata": {
        "id": "V58CaCZzXZHc"
      },
      "id": "V58CaCZzXZHc"
    },
    {
      "cell_type": "code",
      "source": [
        ""
      ],
      "metadata": {
        "id": "mjTZ1i_OXbK0"
      },
      "id": "mjTZ1i_OXbK0",
      "execution_count": null,
      "outputs": []
    }
  ],
  "metadata": {
    "kernelspec": {
      "display_name": "Python 3",
      "language": "python",
      "name": "python3"
    },
    "language_info": {
      "codemirror_mode": {
        "name": "ipython",
        "version": 3
      },
      "file_extension": ".py",
      "mimetype": "text/x-python",
      "name": "python",
      "nbconvert_exporter": "python",
      "pygments_lexer": "ipython3",
      "version": "3.8.10"
    },
    "colab": {
      "name": "Project.ipynb",
      "provenance": []
    }
  },
  "nbformat": 4,
  "nbformat_minor": 5
}