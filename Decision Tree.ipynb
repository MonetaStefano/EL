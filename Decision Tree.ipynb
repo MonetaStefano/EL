{
  "cells": [
    {
      "cell_type": "markdown",
      "id": "98a17c9a",
      "metadata": {
        "id": "98a17c9a"
      },
      "source": [
        "## Decision Tree"
      ]
    },
    {
      "cell_type": "code",
      "execution_count": null,
      "id": "74c8792d",
      "metadata": {
        "id": "74c8792d"
      },
      "outputs": [],
      "source": [
        "#import necessary packages \n",
        "import numpy as np\n",
        "import pandas as pd\n",
        "from sklearn.model_selection import train_test_split\n",
        "from sklearn.datasets import make_moons\n",
        "from sklearn.metrics import mean_squared_error, accuracy_score"
      ]
    },
    {
      "cell_type": "code",
      "execution_count": null,
      "id": "274834a6",
      "metadata": {
        "id": "274834a6"
      },
      "outputs": [],
      "source": [
        "class Node():\n",
        "    def __init__(self, feature_index=None, threshold=None, left=None, right=None, w_value=None, t_value=None):\n",
        "        #attributes of decision nodes\n",
        "        self.feature_index = feature_index\n",
        "        self.threshold = threshold\n",
        "        self.left = left\n",
        "        self.right = right\n",
        "        self.w_value = w_value\n",
        "        #attribute of leaf nodes\n",
        "        self.t_value = t_value"
      ]
    },
    {
      "cell_type": "code",
      "execution_count": null,
      "id": "3e84b9dd",
      "metadata": {
        "id": "3e84b9dd"
      },
      "outputs": [],
      "source": [
        "class Decision_tree:\n",
        "    #class_or_reg attribute can either be 'calssification' or 'regression'\n",
        "    #split_type attribute can either be 'gini' or 'entropy'\n",
        "    def __init__(self, class_or_reg, split_type='gini', max_depth=2, min_sample_split=1):\n",
        "        \n",
        "        self.root = None\n",
        "        self.max_depth = max_depth\n",
        "        self.opt = class_or_reg\n",
        "        self.split_type = split_type \n",
        "        self.min_sample_split = min_sample_split\n",
        "        \n",
        "    def gini_classification(self, y):\n",
        "        \n",
        "        labels = np.unique(y)\n",
        "        gini = 0\n",
        "        prob_sum = 0\n",
        "        for l in labels:\n",
        "            prob = len(y[y == l]) / len(y)\n",
        "            prob_sum += prob**2\n",
        "            gini = 1 - prob_sum\n",
        "        return gini\n",
        "    \n",
        "    def entropy_classification(self, y):\n",
        "        \n",
        "        labels = np.unique(y)\n",
        "        entropy = 0\n",
        "        for l in labels:\n",
        "            prob = len(y[y == l]) / len(y)\n",
        "            if prob == 0: # when no element in one label, return 0\n",
        "                return 0\n",
        "            else:\n",
        "                entropy += -prob * np.log2(prob)\n",
        "        return entropy\n",
        "    \n",
        "    def se_regression(self, ytrue, yhat): #for regression use this to split, gini or entropy do not work \n",
        "\n",
        "        r = ytrue - yhat \n",
        "        return np.sum(r**2)\n",
        "    \n",
        "    def best_split(self, x, y):\n",
        "        \n",
        "        pass\n",
        "\n",
        "    def build_tree(self, x, y, curr_depth=0):\n",
        "        \n",
        "        pass\n",
        "    \n",
        "    def fit(self, x, y):\n",
        "        \n",
        "        pass\n",
        "        \n",
        "    def print_tree(self, tree=None, indent='  '):\n",
        "        \n",
        "        pass\n",
        "    \n",
        "    def make_prediction(self, x, tree):\n",
        "        \n",
        "        pass\n",
        "    \n",
        "    def predict(self, x):\n",
        "        \n",
        "        pass"
      ]
    },
    {
      "cell_type": "code",
      "execution_count": null,
      "id": "6201b4aa",
      "metadata": {
        "id": "6201b4aa"
      },
      "outputs": [],
      "source": [
        ""
      ]
    },
    {
      "cell_type": "code",
      "execution_count": null,
      "id": "f78a40f7",
      "metadata": {
        "id": "f78a40f7"
      },
      "outputs": [],
      "source": [
        ""
      ]
    }
  ],
  "metadata": {
    "kernelspec": {
      "display_name": "Python 3 (ipykernel)",
      "language": "python",
      "name": "python3"
    },
    "language_info": {
      "codemirror_mode": {
        "name": "ipython",
        "version": 3
      },
      "file_extension": ".py",
      "mimetype": "text/x-python",
      "name": "python",
      "nbconvert_exporter": "python",
      "pygments_lexer": "ipython3",
      "version": "3.8.10"
    },
    "colab": {
      "name": "Decision Tree.ipynb",
      "provenance": []
    }
  },
  "nbformat": 4,
  "nbformat_minor": 5
}