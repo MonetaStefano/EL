{
 "cells": [
  {
   "cell_type": "markdown",
   "metadata": {
    "id": "98a17c9a"
   },
   "source": [
    "## Decision Tree"
   ]
  },
  {
   "cell_type": "code",
   "execution_count": null,
   "metadata": {
    "id": "74c8792d"
   },
   "outputs": [],
   "source": [
    "#import necessary packages \n",
    "import numpy as np\n",
    "import pandas as pd\n",
    "from sklearn.model_selection import train_test_split\n",
    "from sklearn.datasets import make_moons\n",
    "from sklearn.metrics import mean_squared_error, accuracy_score"
   ]
  },
  {
   "cell_type": "code",
   "execution_count": null,
   "metadata": {
    "id": "274834a6"
   },
   "outputs": [],
   "source": [
    "class Node():\n",
    "    def __init__(self, feature_index=None, threshold=None, left=None, right=None, w_value=None, t_value=None):\n",
    "        #attributes of decision nodes\n",
    "        self.feature_index = feature_index\n",
    "        self.threshold = threshold\n",
    "        self.left = left\n",
    "        self.right = right\n",
    "        self.w_value = w_value\n",
    "        #attribute of leaf nodes\n",
    "        self.t_value = t_value"
   ]
  },
  {
   "cell_type": "code",
   "execution_count": null,
   "metadata": {
    "id": "3e84b9dd"
   },
   "outputs": [],
   "source": [
    "class Decision_tree:\n",
    "    #class_or_reg attribute can either be 'calssification' or 'regression'\n",
    "    #split_type attribute can either be 'gini' or 'entropy'\n",
    "    def __init__(self, class_or_reg, split_type='gini', max_depth=2, min_sample_split=1):\n",
    "        \n",
    "        self.root = None\n",
    "        self.max_depth = max_depth\n",
    "        self.opt = class_or_reg\n",
    "        self.split_type = split_type \n",
    "        self.min_sample_split = min_sample_split\n",
    "        \n",
    "    def gini_classification(self, y):\n",
    "        \n",
    "        labels = np.unique(y)\n",
    "        gini = 0\n",
    "        prob_sum = 0\n",
    "        for l in labels:\n",
    "            prob = len(y[y == l]) / len(y)\n",
    "            prob_sum += prob**2\n",
    "            gini = 1 - prob_sum\n",
    "        return gini\n",
    "    \n",
    "    def entropy_classification(self, y):\n",
    "        \n",
    "        labels = np.unique(y)\n",
    "        entropy = 0\n",
    "        for l in labels:\n",
    "            prob = len(y[y == l]) / len(y)\n",
    "            if prob == 0: # when no element in one label, return 0\n",
    "                return 0\n",
    "            else:\n",
    "                entropy += -prob * np.log2(prob)\n",
    "        return entropy\n",
    "    \n",
    "    def se_regression(self, ytrue, yhat): #for regression use this to split, gini or entropy do not work \n",
    "\n",
    "        r = ytrue - yhat \n",
    "        return np.sum(r**2)\n",
    "    \n",
    "    def best_split(self, x, y):\n",
    "        \n",
    "        #create a dictionary to store best split\n",
    "        best_split = {}\n",
    "        data = np.c_[x, y]\n",
    "        #set the initial gini large enough to make comparision\n",
    "        i_value = 10000  \n",
    "        \n",
    "        for feature_index in range(x.shape[1]):\n",
    "            \n",
    "            feature_values = data[:, feature_index]\n",
    "            possible_split = np.unique(feature_values)\n",
    "            \n",
    "            # loop over all the feature values present in the data\n",
    "            for s in possible_split:\n",
    "                \n",
    "                # get current split\n",
    "                data_left = data[data[:, feature_index] <= s]\n",
    "                data_right = data[data[:, feature_index] > s]\n",
    "                \n",
    "                #classification using gini\n",
    "                if (self.opt == 'classification' and self.split_type == 'gini'):\n",
    "                    value_left = self.gini_classification(data_left[:, -1:])\n",
    "                    value_right = self.gini_classification(data_right[:, -1:])\n",
    "                    w_value = (len(data_left[:, -1:])*value_left + len(data_right[:-1:])*value_right)/len(data)\n",
    "                    \n",
    "                #classification using entropy\n",
    "                elif (self.opt == 'classification' and self.split_type == 'entropy'):\n",
    "                    value_left = self.entropy_classification(data_left[:, -1:])\n",
    "                    value_right = self.entropy_classification(data_right[:, -1:])\n",
    "                    w_value = (len(data_left[:, -1:])*value_left + len(data_right[:-1:])*value_right)/len(data)\n",
    "                    \n",
    "                #regression\n",
    "                else:\n",
    "                    value_left = self.se_regression(data_left[:, -1:], np.mean(data_left[:, -1:]))\n",
    "                    value_right = self.se_regression(data_right[:, -1:], np.mean(data_right[:, -1:]))\n",
    "                    w_value = value_left + value_right\n",
    "              \n",
    "                # update the best split\n",
    "                if i_value > w_value:\n",
    "                    best_split['feature_index'] = feature_index\n",
    "                    best_split['threshold'] = s\n",
    "                    best_split['data_left'] = data_left\n",
    "                    best_split['data_right'] = data_right\n",
    "                    best_split['w_value'] = w_value\n",
    "                    i_value = w_value\n",
    "\n",
    "        return best_split\n",
    "\n",
    "    def build_tree(self, x, y, curr_depth=0):\n",
    "        \n",
    "        # split until stopping conditions are met\n",
    "        if len(x) >= self.min_sample_split and curr_depth <= self.max_depth:\n",
    "            \n",
    "            # find the best split\n",
    "            best_split = self.best_split(x, y)\n",
    "            if best_split['w_value']>0:\n",
    "                # recursion on the left tree\n",
    "                left_subtree = self.build_tree(best_split['data_left'][:, :-1], best_split['data_left'][:, -1:], curr_depth+1)\n",
    "                # recursion on the right tree \n",
    "                right_subtree = self.build_tree(best_split['data_right'][:, :-1], best_split['data_right'][:, -1:], curr_depth+1)\n",
    "                # return decision node\n",
    "                return Node(best_split['feature_index'], best_split['threshold'], left_subtree, right_subtree, best_split['w_value'])\n",
    "            \n",
    "        leaf_value = max(list(y), key=list(y).count)\n",
    "        # return leaf node\n",
    "        return Node(t_value=leaf_value)\n",
    "    \n",
    "    def fit(self, x, y):\n",
    "        \n",
    "        self.root = self.build_tree(x, y)\n",
    "        \n",
    "    def print_tree(self, tree=None, indent='  '):\n",
    "        \n",
    "        pass\n",
    "    \n",
    "    def make_prediction(self, x, tree):\n",
    "        \n",
    "        pass\n",
    "    \n",
    "    def predict(self, x):\n",
    "        \n",
    "        pass"
   ]
  },
  {
   "cell_type": "code",
   "execution_count": null,
   "metadata": {
    "id": "6201b4aa"
   },
   "outputs": [],
   "source": []
  },
  {
   "cell_type": "code",
   "execution_count": null,
   "metadata": {
    "id": "f78a40f7"
   },
   "outputs": [],
   "source": []
  }
 ],
 "metadata": {
  "colab": {
   "name": "Decision Tree.ipynb",
   "provenance": []
  },
  "kernelspec": {
   "display_name": "Python 3",
   "language": "python",
   "name": "python3"
  },
  "language_info": {
   "codemirror_mode": {
    "name": "ipython",
    "version": 3
   },
   "file_extension": ".py",
   "mimetype": "text/x-python",
   "name": "python",
   "nbconvert_exporter": "python",
   "pygments_lexer": "ipython3",
   "version": "3.7.4"
  }
 },
 "nbformat": 4,
 "nbformat_minor": 5
}
